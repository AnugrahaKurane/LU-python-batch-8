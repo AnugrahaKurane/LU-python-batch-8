{
 "cells": [
  {
   "cell_type": "markdown",
   "metadata": {},
   "source": [
    "# Project 2 - Email sending using Python"
   ]
  },
  {
   "cell_type": "code",
   "execution_count": 4,
   "metadata": {},
   "outputs": [
    {
     "name": "stdout",
     "output_type": "stream",
     "text": [
      "Requirement already satisfied: emails in d:\\users\\anugraha\\anaconda3\\lib\\site-packages (0.6)\n",
      "Requirement already satisfied: chardet in d:\\users\\anugraha\\anaconda3\\lib\\site-packages (from emails) (3.0.4)\n",
      "Requirement already satisfied: python-dateutil in d:\\users\\anugraha\\anaconda3\\lib\\site-packages (from emails) (2.8.1)\n",
      "Requirement already satisfied: requests in d:\\users\\anugraha\\anaconda3\\lib\\site-packages (from emails) (2.24.0)\n",
      "Requirement already satisfied: cssutils in d:\\users\\anugraha\\anaconda3\\lib\\site-packages (from emails) (1.0.2)\n",
      "Requirement already satisfied: premailer in d:\\users\\anugraha\\anaconda3\\lib\\site-packages (from emails) (3.7.0)\n",
      "Requirement already satisfied: lxml in d:\\users\\anugraha\\anaconda3\\lib\\site-packages (from emails) (4.5.2)\n",
      "Requirement already satisfied: six>=1.5 in d:\\users\\anugraha\\anaconda3\\lib\\site-packages (from python-dateutil->emails) (1.15.0)\n",
      "Requirement already satisfied: urllib3!=1.25.0,!=1.25.1,<1.26,>=1.21.1 in d:\\users\\anugraha\\anaconda3\\lib\\site-packages (from requests->emails) (1.25.9)\n",
      "Requirement already satisfied: certifi>=2017.4.17 in d:\\users\\anugraha\\anaconda3\\lib\\site-packages (from requests->emails) (2020.6.20)\n",
      "Requirement already satisfied: idna<3,>=2.5 in d:\\users\\anugraha\\anaconda3\\lib\\site-packages (from requests->emails) (2.10)\n",
      "Requirement already satisfied: cssselect in d:\\users\\anugraha\\anaconda3\\lib\\site-packages (from premailer->emails) (1.1.0)\n",
      "Requirement already satisfied: cachetools in d:\\users\\anugraha\\anaconda3\\lib\\site-packages (from premailer->emails) (4.2.0)\n"
     ]
    }
   ],
   "source": [
    "!pip install emails"
   ]
  },
  {
   "cell_type": "code",
   "execution_count": 5,
   "metadata": {},
   "outputs": [],
   "source": [
    "import emails"
   ]
  },
  {
   "cell_type": "code",
   "execution_count": 9,
   "metadata": {},
   "outputs": [],
   "source": [
    "html_text = '''<p><span style=\"font-family: Courier New, courier;\"><span style=\"background-color: rgb(247, 218, 100);\">HEY Guys,</span>&nbsp;</span></p>\n",
    "<p><span style=\"font-family: Courier New, courier;\"><br></span></p>\n",
    "<p><span style=\"font-family: Courier New, courier;\">Myself Anugrha Kurane,&nbsp;</span></p>\n",
    "<p><span style=\"font-family: Courier New, courier;\">I am a third year Enginnering student</span></p>\n",
    "<p><span style=\"font-family: Courier New, courier;\">I Love Robotics and programming stuff .Tell me about your interest in technical field &nbsp;</span></p>\n",
    "<p><span style=\"font-family: Courier New, courier;\"><br></span></p>\n",
    "<p><span style=\"font-family: Courier New, courier;\">Regards,&nbsp;</span></p>\n",
    "<p><strong><span style=\"font-family: Courier New, courier;\">Anugraha ,</span></strong></p>\n",
    "<p><span style=\"font-family: Courier New, courier;\"><strong>Anugraha Kurane</strong></span></p>'''\n",
    "\n",
    "\n",
    "message = emails.html(html=html_text,\n",
    "                          subject=\"Your EMAIL FROM PYTHON SCRIPT\",\n",
    "                          mail_from=('Anugraha', 'anugraha.kurane@gmail.com'))"
   ]
  },
  {
   "cell_type": "code",
   "execution_count": 10,
   "metadata": {},
   "outputs": [],
   "source": [
    "mail_via_python = message.send(to='kuraneramesh98@gmail.com', \n",
    "                               smtp={'host': 'smtp.gmail.com', \n",
    "                                     'timeout': 5,\n",
    "                                    'port':587,\n",
    "                                    'user':'YOUREMAIL@REQUIRED>COM',\n",
    "                                    'password':'YourPassWordREquired',\n",
    "                                    'tls':True})"
   ]
  },
  {
   "cell_type": "code",
   "execution_count": 11,
   "metadata": {},
   "outputs": [
    {
     "data": {
      "text/plain": [
       "<emails.backend.SMTPResponse status_code=None status_text=None>"
      ]
     },
     "execution_count": 11,
     "metadata": {},
     "output_type": "execute_result"
    }
   ],
   "source": [
    "mail_via_python"
   ]
  },
  {
   "cell_type": "code",
   "execution_count": 13,
   "metadata": {},
   "outputs": [],
   "source": [
    "def sendMail(email, name):\n",
    "    \n",
    "    html_text = '''<p><span style=\"font-family: Courier New, courier;\"><span style=\"background-color: rgb(247, 218, 100);\">HEY Guys,'''+ name+'''</span>&nbsp;</span></p>\n",
    "                <p><span style=\"font-family: Courier New, courier;\"><br></span></p>\n",
    "                <p><span style=\"font-family: Courier New, courier;\">Myself Anugrha Kurane,&nbsp;</span></p>\n",
    "                <p><span style=\"font-family: Courier New, courier;\">I am a third year Enginnering student</span></p>\n",
    "                <p><span style=\"font-family: Courier New, courier;\">I Love Robotics and programming stuff .Tell me about your interest in technical field&nbsp;</span></p>\n",
    "                <p><span style=\"font-family: Courier New, courier;\"><br></span></p>\n",
    "                <p><span style=\"font-family: Courier New, courier;\">Regards,&nbsp;</span></p>\n",
    "                <p><strong><span style=\"font-family: Courier New, courier;\">Anugraha,</span></strong></p>\n",
    "                <p><span style=\"font-family: Courier New, courier;\"><strong>Anugraha Kurane</strong></span></p>'''\n",
    "\n",
    "    subject = \"Hey Guys \"+ name + \", you have Email from Anugraha \"\n",
    "    message = emails.html(html=html_text,\n",
    "                          subject=subject,\n",
    "                          mail_from=('Anugraha', 'anugraha.kurane@gmail.com'))\n",
    "\n",
    "    \n",
    "    mail_via_python = message.send(to=email, \n",
    "                               smtp={'host': 'smtp.gmail.com', \n",
    "                                     'timeout': 5,\n",
    "                                    'port':587,\n",
    "                                    'user':'YOUREMAIL@REQUIRED>COM',\n",
    "                                    'password':'YourPassWordREquired',\n",
    "                                    'tls':True})\n",
    "    return mail_via_python.status_code"
   ]
  },
  {
   "cell_type": "code",
   "execution_count": 14,
   "metadata": {},
   "outputs": [],
   "source": [
    "sendMail(\"kuraneramesh98@gmail.com\",\"Anugraha\")"
   ]
  },
  {
   "cell_type": "code",
   "execution_count": null,
   "metadata": {},
   "outputs": [],
   "source": []
  }
 ],
 "metadata": {
  "kernelspec": {
   "display_name": "Python 3",
   "language": "python",
   "name": "python3"
  },
  "language_info": {
   "codemirror_mode": {
    "name": "ipython",
    "version": 3
   },
   "file_extension": ".py",
   "mimetype": "text/x-python",
   "name": "python",
   "nbconvert_exporter": "python",
   "pygments_lexer": "ipython3",
   "version": "3.8.3"
  }
 },
 "nbformat": 4,
 "nbformat_minor": 4
}
